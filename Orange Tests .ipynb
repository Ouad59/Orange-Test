{
 "cells": [
  {
   "cell_type": "code",
   "execution_count": 5,
   "id": "716d3902",
   "metadata": {},
   "outputs": [],
   "source": [
    "# faire le test sur le lien https://adventofcode.com/2018/day/2"
   ]
  },
  {
   "cell_type": "code",
   "execution_count": 8,
   "id": "b0ab04a5",
   "metadata": {},
   "outputs": [],
   "source": [
    "def calculer_checksum(ids_boites):\n",
    "    compte_deux = 0\n",
    "    compte_trois = 0\n",
    "\n",
    "    # Parcourir chaque id de la boîte\n",
    "    for id_boite in ids_boites:\n",
    "        compte_caracteres = {}\n",
    "\n",
    "        # Compter les occurrences de chaque caractère dans l id de la boîte\n",
    "        for caractere in id_boite:\n",
    "            if caractere in compte_caracteres:\n",
    "                compte_caracteres[caractere] += 1\n",
    "            else:\n",
    "                compte_caracteres[caractere] = 1\n",
    "\n",
    "        a_deux = False\n",
    "        a_trois = False\n",
    "\n",
    "        # Vérifier s il y a des caractères qui apparaissent exactement deux ou trois fois\n",
    "        for compte in compte_caracteres.values():\n",
    "            if compte == 2:\n",
    "                a_deux = True\n",
    "            elif compte == 3:\n",
    "                a_trois = True\n",
    "\n",
    "        # Mettre à jour les compteurs\n",
    "        if a_deux:\n",
    "            compte_deux += 1\n",
    "        if a_trois:\n",
    "            compte_trois += 1\n",
    "\n",
    "    # Calculer le checksum en multipliant les compteurs de caracteres à deux et à trois\n",
    "    checksum = compte_deux * compte_trois"
   ]
  },
  {
   "cell_type": "code",
   "execution_count": 7,
   "id": "3477ffc2",
   "metadata": {},
   "outputs": [
    {
     "name": "stdout",
     "output_type": "stream",
     "text": [
      "Checksum : 12\n"
     ]
    }
   ],
   "source": [
    "#Test\n",
    "ids_boites = [\"abcdef\",\"bababc\",\"abbcde\",\"abcccd\",\"aabcdd\",\"abcdee\",\"ababab\"]\n",
    "\n",
    "checksum = calculer_checksum(ids_boites)\n",
    "\n",
    "\n",
    "print(\"Checksum :\", checksum)"
   ]
  },
  {
   "cell_type": "code",
   "execution_count": null,
   "id": "ea387648",
   "metadata": {},
   "outputs": [],
   "source": []
  }
 ],
 "metadata": {
  "kernelspec": {
   "display_name": "Python 3 (ipykernel)",
   "language": "python",
   "name": "python3"
  },
  "language_info": {
   "codemirror_mode": {
    "name": "ipython",
    "version": 3
   },
   "file_extension": ".py",
   "mimetype": "text/x-python",
   "name": "python",
   "nbconvert_exporter": "python",
   "pygments_lexer": "ipython3",
   "version": "3.9.7"
  }
 },
 "nbformat": 4,
 "nbformat_minor": 5
}
